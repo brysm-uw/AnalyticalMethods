{
 "cells": [
  {
   "cell_type": "markdown",
   "id": "14281a45-0bec-442e-b5ec-a7ce5e44dc72",
   "metadata": {},
   "source": [
    "**Bryan Smith**\n",
    "\n",
    "I have embarked on a project involving the DBLP Publication Network, which is represented as a bipartite graph. In this graph, the nodes consist of authors and academic papers. Each edge $(a, p)$ signifies a connection between an author $a$ and a paper $p$.\n",
    "\n",
    "Some initial questions to answer:\n",
    "\n",
    "- What is the minimum, maximum, and average, and standard deviation of the number of authors per paper?\n",
    "- What is the minimum, maximum, and average, and standard deviation of the number of papers per author?\n",
    "- How many connected components are there in the network?\n",
    "- Pick some three metrics on graphs, evaluate them for this graph, and interpret their meanings.\n"
   ]
  },
  {
   "cell_type": "code",
   "execution_count": 1,
   "id": "5c841b7a-1c2f-4d00-a0a2-d4a945cba330",
   "metadata": {},
   "outputs": [
    {
     "name": "stdout",
     "output_type": "stream",
     "text": [
      "The most authors on a single paper is 119\n",
      "The least amount of authors on a single paper is 1\n",
      "The std deviation of authors on a single paper is 1.5774377226087826\n",
      "The most papers written by a single author is 951\n",
      "The least amount of papers written by a single author is 1\n",
      "The std deviation of papers for an author to write is 14.632955654262846\n",
      "The number of connected components of the network is 117547\n",
      "Mean clustering coefficient: 0.14324445095932758\n",
      "Median clustering coefficient: 0.125\n",
      "Std deviation of clustering coefficients: 0.10088898952853999\n",
      "Mean PageRank for authors: 4.6714175075748286e-07\n",
      "Median PageRank for authors: 2.6262619188520085e-07\n",
      "Std deviation for authors: 8.578720469183046e-07\n",
      "Top 10 most collaborated papers based on degree centrality:\n",
      "Paper paper_3127409 with degree centrality 0.001287702033099267\n",
      "Paper paper_3335204 with degree centrality 0.001287702033099267\n",
      "Paper paper_3326772 with degree centrality 0.001032461540807605\n",
      "Paper paper_3703163 with degree centrality 0.001032461540807605\n",
      "Paper paper_3981469 with degree centrality 0.00098321337530177\n",
      "Paper paper_493174 with degree centrality 0.0009147159268317255\n",
      "Paper paper_3876868 with degree centrality 0.0008989665134973723\n",
      "Paper paper_437327 with degree centrality 0.0008622178823838812\n",
      "Paper paper_1188300 with degree centrality 0.0008594679848175655\n",
      "Paper paper_3569841 with degree centrality 0.0007649715048114458\n"
     ]
    }
   ],
   "source": [
    "import networkx as nx\n",
    "import numpy as np\n",
    "G = nx.Graph()\n",
    "\n",
    "# Go through file and populate the nodes and edges and differientiate authors from their academic papers\n",
    "with open('out.dblp-author-all.txt', 'r') as file:\n",
    "    for line in file:\n",
    "        author, paper = map(int, line.split())\n",
    "        G.add_edge(f'author_{author}', f'paper_{paper}')\n",
    "\n",
    "# Get min, max, stdev number of authors per paper and papers per author by keeping track of number of authors per paper and papers per authors\n",
    "authorsPerPaper = {paper: G.degree(paper) for paper in G.nodes if paper.startswith('paper_')}\n",
    "papersPerAuthor = {author: G.degree(author) for author in G.nodes if author.startswith('author_')}\n",
    "print(f'The most authors on a single paper is {max(authorsPerPaper.values())}')\n",
    "print(f'The least amount of authors on a single paper is {min(authorsPerPaper.values())}')\n",
    "print(f'The std deviation of authors on a single paper is {np.std(list(authorsPerPaper.values()), ddof=1)}')\n",
    "print(f'The most papers written by a single author is {max(papersPerAuthor.values())}')\n",
    "print(f'The least amount of papers written by a single author is {min(papersPerAuthor.values())}')\n",
    "print(f'The std deviation of papers for an author to write is {np.std(list(papersPerAuthor.values()), ddof=1)}')\n",
    "\n",
    "# Find the number of connected components of the network\n",
    "print(f'The number of connected components of the network is {len(list(nx.connected_components(G)))}')\n",
    "\n",
    "# Pick three metrics on graphs, evaluate them for this graph, and interprete their meanings. \n",
    "\n",
    "# For the first one I will choose the clustering coefficient, which will tell us the tendency of authors to collaborate on the same papers. There are too many nodes to list, so I need to summarize them.\n",
    "coefficient = nx.bipartite.clustering(G, nodes=papersPerAuthor.keys())\n",
    "coefficients = list(coefficient.values())\n",
    "print(f'Mean clustering coefficient: {np.mean(coefficients)}')\n",
    "print(f'Median clustering coefficient: {np.median(coefficients)}')\n",
    "print(f'Std deviation of clustering coefficients: {np.std(coefficients, ddof=1)}')\n",
    "\n",
    "# For the next one, I will choose pagerank. This tells us which authors are the most influential given a pagerank score.\n",
    "pagerank = nx.pagerank(G)\n",
    "authorPageRank = {node: score for node, score in pagerank.items() if node.startswith('author_')}\n",
    "pagerankValues = list(authorPageRank.values())\n",
    "print(f'Mean PageRank for authors: {np.mean(pagerankValues)}')\n",
    "print(f'Median PageRank for authors: {np.median(pagerankValues)}')\n",
    "print(f'Std deviation for authors: {np.std(pagerankValues, ddof=1)}')\n",
    "\n",
    "# For the last one, I will choose projected graph and calculate the degree centrality. This will give us a graph where nodes are papers and edges are shared if the two papers share at least one author. We can analyze how many authors collaborated with each other.\n",
    "# This last one takes a while!\n",
    "projected_G = nx.bipartite.projected_graph(G, authorsPerPaper.keys())\n",
    "# Calculate degree centrality for the projected graph\n",
    "degree_centrality = nx.degree_centrality(projected_G)\n",
    "# Get the top 10 most collaborated papers based on degree centrality\n",
    "top_10_papers = sorted(degree_centrality.items(), key=lambda x: x[1], reverse=True)[:10]\n",
    "print(\"Top 10 most collaborated papers based on degree centrality:\")\n",
    "for paper, centrality in top_10_papers:\n",
    "    print(f'Paper {paper} with degree centrality {centrality}')"
   ]
  },
  {
   "cell_type": "markdown",
   "id": "f6542ccd-50d5-4acd-bb8d-cbe3081705b4",
   "metadata": {},
   "source": [
    "# Clustering Coefficient\n",
    "\n",
    "**Mean Clustering Coefficient:** 0.143244451  \n",
    "**Median Clustering Coefficient:** 0.125  \n",
    "**Standard Deviation of Clustering Coefficient:** 0.100889  \n",
    "\n",
    "## Interpretation:\n",
    "\n",
    "**Mean and Median:** The clustering coefficient measures the tendency of authors to collaborate on the same papers. A mean clustering coefficient of $0.14324445$ and a median of $0.125$ suggest that, on average, there is a moderate level of collaboration among authors. This means that while some authors frequently collaborate with others, many authors do not.\n",
    "\n",
    "**Standard Deviation:** The standard deviation of $0.1008889$ indicates that there is some variability in the clustering coefficients. Some authors are part of tightly-knit groups that frequently collaborate, while others are more isolated or collaborate less frequently.\n",
    "\n",
    "# PageRank\n",
    "\n",
    "**Mean PageRank for Authors:** 4.67147e-07  \n",
    "**Median PageRank for Authors:** 2.6262619e-07  \n",
    "**Standard Deviation of PageRank for Authors:** 8.57872e-07\n",
    "\n",
    "## Interpretation:\n",
    "\n",
    "**Mean and Median:** PageRank is a measure of the influence or importance of nodes (authors) in the network. The very low mean and median PageRank values (in the order of $10^{-7}$ suggest that most authors have relatively low influence within the network. This is typical in large networks where influence is distributed among many nodes, given that there are $4000150 $.\n",
    "\n",
    "**Standard Deviation:** The standard deviation of 8.57872e-07 indicates that there is a wide range of influence among authors. While most authors have low PageRank scores, a few authors are significantly more influential, likely due to their extensive collaborations or connections to other influential authors.\n",
    "\n",
    "## Paper Degree Centrality:\n",
    "\n",
    "The highest degree centrality is $0.001287702033099267$, which means that the paper shares authors with about $0.13\\%$ of the total number of papers in the network, which can still be significant in a large dataset.\n",
    "\n",
    "## Final Thoughts\n",
    "\n",
    "**Collaboration Patterns:** The moderate clustering coefficient suggests that while there are some collaborative groups, many authors work independently or in smaller groups. Efforts to increase collaboration could focus on connecting these isolated authors with more collaborative groups.\n",
    "\n",
    "**Influence Distribution:** The low mean and median PageRank values, combined with a high standard deviation, indicate that a small number of authors hold significant influence. Identifying and leveraging these key influencers could be beneficial for spreading new ideas or fostering further collaboration within the network.\n"
   ]
  },
  {
   "cell_type": "markdown",
   "id": "99baef8f-042b-4eb5-a48a-886f78e86ddd",
   "metadata": {},
   "source": [
    "## Problem Statement:\n",
    "\n",
    "Find the (not necessarily unique) author who has written the most papers. Call this author $X$. An author other than $X$ has an $X$-index of 1 if she has co-authored at least one paper with $X$. An author has an $X$-index of 2 if she does not have an $X$-index of 1, but has co-authored a paper with someone who has an $X$-index of 1. Similarly, you can define having an $X$-index of 3, 4, etc."
   ]
  },
  {
   "cell_type": "code",
   "execution_count": 6,
   "id": "b7c92f7f-d086-43da-ab41-e30795b85040",
   "metadata": {},
   "outputs": [],
   "source": [
    "# Find the authors who have written the most papers\n",
    "maxPapers = max(papersPerAuthor.values())\n",
    "busiestAuthors = [author for author, papersCount in papersPerAuthor.items() if papersCount == maxPapers]\n",
    "\n",
    "# Since it could be more than one author and we care about level indexes, I should use a loop through the authors in a breadth-first search approach. For computational reasons, we should only evaluate up to the target index.\n",
    "def getAuthorsAtIndex(G, papersPerAuthor, busiestAuthors, targetIndex):\n",
    "    # Initialize X-index for each author\n",
    "    X = {author: float('inf') for author in papersPerAuthor.keys()}\n",
    "    \n",
    "    # Set the X-index of the busiest authors to 0\n",
    "    for author in busiestAuthors:\n",
    "        X[author] = 0\n",
    "    \n",
    "    # BFS to calculate X-index\n",
    "    queue = busiestAuthors[:]\n",
    "    while queue:\n",
    "        currentAuthor = queue.pop(0)\n",
    "        currentIndex = X[currentAuthor]\n",
    "        for n in G.neighbors(currentAuthor):\n",
    "            if n.startswith('paper_'):\n",
    "                for coauthor in G.neighbors(n):\n",
    "                    if coauthor.startswith('author_') and X[coauthor] == float('inf'):\n",
    "                        X[coauthor] = currentIndex + 1\n",
    "                        queue.append(coauthor)\n",
    "\n",
    "    # Collect authors with the target X-index\n",
    "    authorsAtTargetIndex = {author for author, index in X.items() if index == targetIndex}\n",
    "    return authorsAtTargetIndex\n",
    "\n",
    "# Define the  X index here\n",
    "idx = 6\n",
    "totals = []\n",
    "for n in range(0,idx + 1):\n",
    "    totals.append(len(getAuthorsAtIndex(G, papersPerAuthor, busiestAuthors, n)))"
   ]
  },
  {
   "cell_type": "markdown",
   "id": "b96d318b-a537-4e6d-af08-f5c815921a99",
   "metadata": {},
   "source": [
    "Make a plot with the $X$-index on the horizontal axis, and the number of authors with that $X$-index on the vertical axis."
   ]
  },
  {
   "cell_type": "code",
   "execution_count": 13,
   "id": "b0fd4e0f-c3e6-4711-b35a-f636c39b06ff",
   "metadata": {},
   "outputs": [
    {
     "data": {
      "image/png": "[encoded data removed]",
      "text/plain": [
       "<Figure size 1000x600 with 1 Axes>"
      ]
     },
     "metadata": {},
     "output_type": "display_data"
    }
   ],
   "source": [
    "import matplotlib.pyplot as plt\n",
    "plt.figure(figsize=(10, 6))\n",
    "bars = plt.bar(range(0, idx + 1), totals , color='skyblue')\n",
    "for bar in bars:\n",
    "    yval = bar.get_height()\n",
    "    plt.text(bar.get_x() + bar.get_width()/2.0, yval, int(yval), ha='center', va='bottom')\n",
    "plt.xlabel('$X$-index')\n",
    "plt.ylabel('Number of Authors')\n",
    "plt.title('Degrees of Seperation from Busiest Author')\n",
    "plt.grid(axis='y')\n",
    "plt.show()"
   ]
  },
  {
   "cell_type": "markdown",
   "id": "ccb5bb8e-9dc4-491b-a5fe-202e1724b3d7",
   "metadata": {},
   "source": [
    "Notice how the number of authors decrease after a certain index point. This makes sense because as we move further away from the most prolific authors, the connections between authors gets more sparse."
   ]
  }
 ],
 "metadata": {
  "kernelspec": {
   "display_name": "Python 3 (ipykernel)",
   "language": "python",
   "name": "python3"
  },
  "language_info": {
   "codemirror_mode": {
    "name": "ipython",
    "version": 3
   },
   "file_extension": ".py",
   "mimetype": "text/x-python",
   "name": "python",
   "nbconvert_exporter": "python",
   "pygments_lexer": "ipython3",
   "version": "3.11.9"
  }
 },
 "nbformat": 4,
 "nbformat_minor": 5
}
